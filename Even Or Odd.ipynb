{
 "cells": [
  {
   "cell_type": "markdown",
   "id": "ee951f1b",
   "metadata": {},
   "source": [
    "# Even or Odd"
   ]
  },
  {
   "cell_type": "code",
   "execution_count": 6,
   "id": "08f390a4",
   "metadata": {},
   "outputs": [
    {
     "name": "stdout",
     "output_type": "stream",
     "text": [
      "Enter your number: 4\n",
      "your number 4 is Even\n"
     ]
    }
   ],
   "source": [
    "# find a number is even or odd\n",
    "a=int(input(\"Enter your number: \"))\n",
    "\n",
    "if a % 2 == 0:\n",
    "    print(f'your number {a} is Even')\n",
    "else:\n",
    "    print(f'your number {a} is Odd')"
   ]
  },
  {
   "cell_type": "code",
   "execution_count": 10,
   "id": "051ebfa9",
   "metadata": {},
   "outputs": [
    {
     "name": "stdout",
     "output_type": "stream",
     "text": [
      "Enter a list of numbers separated by commas: [1,2,3,4]\n",
      "Your number 1 is odd\n",
      "Your number 2 is even\n",
      "Your number 3 is odd\n",
      "Your number 4 is even\n"
     ]
    }
   ],
   "source": [
    "# find in a list each number is even or odd\n",
    "import ast\n",
    "\n",
    "input_str = input(\"Enter a list of numbers separated by commas: \")\n",
    "input_list = ast.literal_eval(input_str)\n",
    "\n",
    "for number in input_list:\n",
    "    if number % 2 == 0:\n",
    "        print(f'Your number {number} is even')\n",
    "    else:\n",
    "        print(f'Your number {number} is odd')\n"
   ]
  },
  {
   "cell_type": "code",
   "execution_count": 16,
   "id": "11574e9b",
   "metadata": {},
   "outputs": [
    {
     "name": "stdout",
     "output_type": "stream",
     "text": [
      "Enter a number or a list of numbers separated by commas: 4\n",
      "Your number 4 is even\n"
     ]
    }
   ],
   "source": [
    "# write a code for identify a number is even or odd.it can be a single number or a list of numbers\n",
    "\n",
    "import ast\n",
    "\n",
    "user_input = input(\"Enter a number or a list of numbers separated by commas: \")\n",
    "\n",
    "try:\n",
    "    # Try to parse the input as a list\n",
    "    input_list = ast.literal_eval(user_input)\n",
    "    \n",
    "    # If successful, check each number in the list\n",
    "    for number in input_list:\n",
    "        if number % 2 == 0:\n",
    "            print(f'Your number {number} is even')\n",
    "        else:\n",
    "            print(f'Your number {number} is odd')\n",
    "\n",
    "except (ValueError, SyntaxError,TypeError):\n",
    "    # If parsing as a list fails, assume it's a single number\n",
    "    try:\n",
    "        number = int(user_input)\n",
    "        if number % 2 == 0:\n",
    "            print(f'Your number {number} is even')\n",
    "        else:\n",
    "            print(f'Your number {number} is odd')\n",
    "    except ValueError:\n",
    "        print(\"Invalid input. Please enter either a single number or a list of numbers.\")\n"
   ]
  },
  {
   "cell_type": "code",
   "execution_count": null,
   "id": "a6930da0",
   "metadata": {},
   "outputs": [],
   "source": []
  },
  {
   "cell_type": "code",
   "execution_count": null,
   "id": "4f034182",
   "metadata": {},
   "outputs": [],
   "source": []
  }
 ],
 "metadata": {
  "kernelspec": {
   "display_name": "Python 3 (ipykernel)",
   "language": "python",
   "name": "python3"
  },
  "language_info": {
   "codemirror_mode": {
    "name": "ipython",
    "version": 3
   },
   "file_extension": ".py",
   "mimetype": "text/x-python",
   "name": "python",
   "nbconvert_exporter": "python",
   "pygments_lexer": "ipython3",
   "version": "3.11.5"
  }
 },
 "nbformat": 4,
 "nbformat_minor": 5
}
